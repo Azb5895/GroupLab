{
  "nbformat": 4,
  "nbformat_minor": 0,
  "metadata": {
    "colab": {
      "name": "Copy of Team Project",
      "provenance": [],
      "collapsed_sections": [],
      "include_colab_link": true
    },
    "kernelspec": {
      "name": "python3",
      "display_name": "Python 3"
    }
  },
  "cells": [
    {
      "cell_type": "markdown",
      "metadata": {
        "id": "view-in-github",
        "colab_type": "text"
      },
      "source": [
        "<a href=\"https://colab.research.google.com/github/Azb5895/GroupLab/blob/master/Copy_of_Team_Project.ipynb\" target=\"_parent\"><img src=\"https://colab.research.google.com/assets/colab-badge.svg\" alt=\"Open In Colab\"/></a>"
      ]
    },
    {
      "cell_type": "markdown",
      "metadata": {
        "id": "Z6LQsJBU1vHd",
        "colab_type": "text"
      },
      "source": [
        "## Snowfall In State College\n"
      ]
    },
    {
      "cell_type": "markdown",
      "metadata": {
        "id": "kW6Cbvo82Sys",
        "colab_type": "text"
      },
      "source": [
        "#### Creators\n",
        "\n",
        "\n",
        "*   Alyssa Boord \n",
        "*   Matt Tipton\n",
        "*   Kate Sullivan \n"
      ]
    },
    {
      "cell_type": "markdown",
      "metadata": {
        "id": "cixXSM4I12Yw",
        "colab_type": "text"
      },
      "source": [
        "### Original Project (Lab Assignment 1)"
      ]
    },
    {
      "cell_type": "markdown",
      "metadata": {
        "id": "3Xny9mL615LM",
        "colab_type": "text"
      },
      "source": [
        "The purpose of the original project was to examine snowfall in State College over the course of three years in the months of February and March. These two months were chosen from the data set because they experience the highest amount of snowfall on average. The original project only used two months instead of the full data set due to the graph being drawn by hand. \n"
      ]
    },
    {
      "cell_type": "markdown",
      "metadata": {
        "id": "cQSlrfVW19HW",
        "colab_type": "text"
      },
      "source": [
        "<Insert Image of the (Lab Assignment 1)>\n",
        "![alt text](https://raw.githubusercontent.com/Azb5895/Lab1/master/image/labgraph/snow%20level%20graph.png)\n",
        "\n"
      ]
    },
    {
      "cell_type": "markdown",
      "metadata": {
        "id": "NEQgzUl32GVZ",
        "colab_type": "text"
      },
      "source": [
        "#Conculusion \n",
        "Due to the original project we can see general trends of snowfall in State College in February and March. It appears that the rate of snowfall recorded in February is fairly similar throughout all three years. However, in the month of March there is a large spike in the rate of snowfall in 2017 before it drops back down in the following two years. \n"
      ]
    },
    {
      "cell_type": "markdown",
      "metadata": {
        "id": "ROM_QFLo2KyH",
        "colab_type": "text"
      },
      "source": [
        "### Team Project 1"
      ]
    },
    {
      "cell_type": "markdown",
      "metadata": {
        "id": "Q5t3T7W-Hki8",
        "colab_type": "text"
      },
      "source": [
        "For this team project our group will be looking at snowfall in State College over the course of twenty years throughout all 12 months, not exclusively February and March. Extending the data set from the original project will allow State College to make improved conclusions about anticipated snowfall in the future. \n"
      ]
    },
    {
      "cell_type": "markdown",
      "metadata": {
        "id": "YBMMWB2oHrRB",
        "colab_type": "text"
      },
      "source": [
        "#### The Good"
      ]
    },
    {
      "cell_type": "markdown",
      "metadata": {
        "id": "ITlYgwM6Ht8K",
        "colab_type": "text"
      },
      "source": [
        "The graph our group chose to create to represent the good category gives a clear outline of both the amount of snow and the year that had each amount. The bar chart also has a color that stands out, but is neutral enough that the design choice is not distracting. This allows users to easily see the patterns in the data "
      ]
    },
    {
      "cell_type": "markdown",
      "metadata": {
        "id": "xPRCCK1D-tWW",
        "colab_type": "text"
      },
      "source": [
        "![image.png](https://raw.githubusercontent.com/Azb5895/SRA-268-Spring/master/GraphImage/Good%20graph.PNG)"
      ]
    },
    {
      "cell_type": "markdown",
      "metadata": {
        "id": "vZ__tY4XINir",
        "colab_type": "text"
      },
      "source": [
        "#### The Bad"
      ]
    },
    {
      "cell_type": "markdown",
      "metadata": {
        "id": "DszQ1tGVIRQq",
        "colab_type": "text"
      },
      "source": [
        "The graph our group chose to represent the bad category is difficult to follow because the years are not in any order. The structure of the graph also means that years with little snow like 2020 are very easy to miss. It is also not very clear to the user what the graph is showing unless they are given more details by the presenter.  "
      ]
    },
    {
      "cell_type": "markdown",
      "metadata": {
        "id": "cfz44_55_CUr",
        "colab_type": "text"
      },
      "source": [
        "![alt text](https://raw.githubusercontent.com/Azb5895/SRA-268-Spring/master/GraphImage/Bad%20Graph.PNG)"
      ]
    },
    {
      "cell_type": "markdown",
      "metadata": {
        "id": "NnaYvuAIIkPV",
        "colab_type": "text"
      },
      "source": [
        "#### The Ugly"
      ]
    },
    {
      "cell_type": "markdown",
      "metadata": {
        "id": "MjmwGWTlIlOi",
        "colab_type": "text"
      },
      "source": [
        "The graph our group chose to represent the ugly category has too many colors that all clash together without any kind of color scheme. This graph also has labels surrounding the chart instead of on the sections they represent which makes it look messy and unorganized. "
      ]
    },
    {
      "cell_type": "markdown",
      "metadata": {
        "id": "wRLA1BcKBwHw",
        "colab_type": "text"
      },
      "source": [
        "![alt text](https://raw.githubusercontent.com/Azb5895/SRA-268-Spring/master/GraphImage/Ugly%20Graph.PNG)"
      ]
    }
  ]
}